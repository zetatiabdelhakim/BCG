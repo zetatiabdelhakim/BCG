{
 "cells": [
  {
   "cell_type": "code",
   "execution_count": 1,
   "id": "initial_id",
   "metadata": {
    "collapsed": true,
    "ExecuteTime": {
     "end_time": "2024-11-05T15:38:24.368322600Z",
     "start_time": "2024-11-05T15:38:22.554115400Z"
    }
   },
   "outputs": [
    {
     "data": {
      "text/plain": "        id  sub_ms_class zoning_ms  frontge_lot  area_lot streetname  \\\n0      128            45        RM         55.0      4388       Pave   \n1      456            20        RL         80.0      9600       Pave   \n2     1324            30        RL         50.0      5330       Pave   \n3      218            70        RM         57.0      9906       Pave   \n4     1182           120        RM         64.0      5587       Pave   \n...    ...           ...       ...          ...       ...        ...   \n1455   333            20        RL         85.0     10655       Pave   \n1456  1294            60        RL         78.0     10140       Pave   \n1457  1362            20        RL        124.0     16158       Pave   \n1458  1116            20        RL         93.0     12085       Pave   \n1459  1105           160        RM         24.0      2016       Pave   \n\n     alleyname shape_lot contour_land    util  ... poolarea poolqc fence  \\\n0          NaN       IR1          Bnk  AllPub  ...        0    NaN   NaN   \n1          NaN       Reg          Lvl  AllPub  ...        0    NaN   NaN   \n2          NaN       Reg          HLS  AllPub  ...        0    NaN   NaN   \n3         Grvl       Reg          Lvl  AllPub  ...        0    NaN   NaN   \n4          NaN       IR1          HLS  AllPub  ...        0    NaN   NaN   \n...        ...       ...          ...     ...  ...      ...    ...   ...   \n1455       NaN       IR1          Lvl  AllPub  ...        0    NaN   NaN   \n1456       NaN       Reg          Lvl  AllPub  ...        0    NaN  GdWo   \n1457       NaN       IR1          Low  AllPub  ...        0    NaN   NaN   \n1458       NaN       Reg          Lvl  AllPub  ...        0    NaN   NaN   \n1459       NaN       Reg          Lvl  AllPub  ...        0    NaN   NaN   \n\n     miscfeature miscval mosold yrsold  saletype  salecondition  saleprice  \n0            NaN       0      6   2007        WD         Normal      87000  \n1            NaN       0      9   2007        WD         Normal     175500  \n2            NaN       0     12   2009        WD         Normal      82500  \n3            NaN       0      9   2006        WD         Family     107000  \n4            NaN       0     11   2008       New        Partial     392500  \n...          ...     ...    ...    ...       ...            ...        ...  \n1455         NaN       0     10   2009        WD         Normal     284000  \n1456         NaN       0      3   2006        WD         Normal     162900  \n1457         NaN       0      6   2009        WD         Normal     260000  \n1458         NaN       0     11   2007       New        Partial     318000  \n1459         NaN       0      4   2007        WD         Normal     106000  \n\n[1460 rows x 81 columns]",
      "text/html": "<div>\n<style scoped>\n    .dataframe tbody tr th:only-of-type {\n        vertical-align: middle;\n    }\n\n    .dataframe tbody tr th {\n        vertical-align: top;\n    }\n\n    .dataframe thead th {\n        text-align: right;\n    }\n</style>\n<table border=\"1\" class=\"dataframe\">\n  <thead>\n    <tr style=\"text-align: right;\">\n      <th></th>\n      <th>id</th>\n      <th>sub_ms_class</th>\n      <th>zoning_ms</th>\n      <th>frontge_lot</th>\n      <th>area_lot</th>\n      <th>streetname</th>\n      <th>alleyname</th>\n      <th>shape_lot</th>\n      <th>contour_land</th>\n      <th>util</th>\n      <th>...</th>\n      <th>poolarea</th>\n      <th>poolqc</th>\n      <th>fence</th>\n      <th>miscfeature</th>\n      <th>miscval</th>\n      <th>mosold</th>\n      <th>yrsold</th>\n      <th>saletype</th>\n      <th>salecondition</th>\n      <th>saleprice</th>\n    </tr>\n  </thead>\n  <tbody>\n    <tr>\n      <th>0</th>\n      <td>128</td>\n      <td>45</td>\n      <td>RM</td>\n      <td>55.0</td>\n      <td>4388</td>\n      <td>Pave</td>\n      <td>NaN</td>\n      <td>IR1</td>\n      <td>Bnk</td>\n      <td>AllPub</td>\n      <td>...</td>\n      <td>0</td>\n      <td>NaN</td>\n      <td>NaN</td>\n      <td>NaN</td>\n      <td>0</td>\n      <td>6</td>\n      <td>2007</td>\n      <td>WD</td>\n      <td>Normal</td>\n      <td>87000</td>\n    </tr>\n    <tr>\n      <th>1</th>\n      <td>456</td>\n      <td>20</td>\n      <td>RL</td>\n      <td>80.0</td>\n      <td>9600</td>\n      <td>Pave</td>\n      <td>NaN</td>\n      <td>Reg</td>\n      <td>Lvl</td>\n      <td>AllPub</td>\n      <td>...</td>\n      <td>0</td>\n      <td>NaN</td>\n      <td>NaN</td>\n      <td>NaN</td>\n      <td>0</td>\n      <td>9</td>\n      <td>2007</td>\n      <td>WD</td>\n      <td>Normal</td>\n      <td>175500</td>\n    </tr>\n    <tr>\n      <th>2</th>\n      <td>1324</td>\n      <td>30</td>\n      <td>RL</td>\n      <td>50.0</td>\n      <td>5330</td>\n      <td>Pave</td>\n      <td>NaN</td>\n      <td>Reg</td>\n      <td>HLS</td>\n      <td>AllPub</td>\n      <td>...</td>\n      <td>0</td>\n      <td>NaN</td>\n      <td>NaN</td>\n      <td>NaN</td>\n      <td>0</td>\n      <td>12</td>\n      <td>2009</td>\n      <td>WD</td>\n      <td>Normal</td>\n      <td>82500</td>\n    </tr>\n    <tr>\n      <th>3</th>\n      <td>218</td>\n      <td>70</td>\n      <td>RM</td>\n      <td>57.0</td>\n      <td>9906</td>\n      <td>Pave</td>\n      <td>Grvl</td>\n      <td>Reg</td>\n      <td>Lvl</td>\n      <td>AllPub</td>\n      <td>...</td>\n      <td>0</td>\n      <td>NaN</td>\n      <td>NaN</td>\n      <td>NaN</td>\n      <td>0</td>\n      <td>9</td>\n      <td>2006</td>\n      <td>WD</td>\n      <td>Family</td>\n      <td>107000</td>\n    </tr>\n    <tr>\n      <th>4</th>\n      <td>1182</td>\n      <td>120</td>\n      <td>RM</td>\n      <td>64.0</td>\n      <td>5587</td>\n      <td>Pave</td>\n      <td>NaN</td>\n      <td>IR1</td>\n      <td>HLS</td>\n      <td>AllPub</td>\n      <td>...</td>\n      <td>0</td>\n      <td>NaN</td>\n      <td>NaN</td>\n      <td>NaN</td>\n      <td>0</td>\n      <td>11</td>\n      <td>2008</td>\n      <td>New</td>\n      <td>Partial</td>\n      <td>392500</td>\n    </tr>\n    <tr>\n      <th>...</th>\n      <td>...</td>\n      <td>...</td>\n      <td>...</td>\n      <td>...</td>\n      <td>...</td>\n      <td>...</td>\n      <td>...</td>\n      <td>...</td>\n      <td>...</td>\n      <td>...</td>\n      <td>...</td>\n      <td>...</td>\n      <td>...</td>\n      <td>...</td>\n      <td>...</td>\n      <td>...</td>\n      <td>...</td>\n      <td>...</td>\n      <td>...</td>\n      <td>...</td>\n      <td>...</td>\n    </tr>\n    <tr>\n      <th>1455</th>\n      <td>333</td>\n      <td>20</td>\n      <td>RL</td>\n      <td>85.0</td>\n      <td>10655</td>\n      <td>Pave</td>\n      <td>NaN</td>\n      <td>IR1</td>\n      <td>Lvl</td>\n      <td>AllPub</td>\n      <td>...</td>\n      <td>0</td>\n      <td>NaN</td>\n      <td>NaN</td>\n      <td>NaN</td>\n      <td>0</td>\n      <td>10</td>\n      <td>2009</td>\n      <td>WD</td>\n      <td>Normal</td>\n      <td>284000</td>\n    </tr>\n    <tr>\n      <th>1456</th>\n      <td>1294</td>\n      <td>60</td>\n      <td>RL</td>\n      <td>78.0</td>\n      <td>10140</td>\n      <td>Pave</td>\n      <td>NaN</td>\n      <td>Reg</td>\n      <td>Lvl</td>\n      <td>AllPub</td>\n      <td>...</td>\n      <td>0</td>\n      <td>NaN</td>\n      <td>GdWo</td>\n      <td>NaN</td>\n      <td>0</td>\n      <td>3</td>\n      <td>2006</td>\n      <td>WD</td>\n      <td>Normal</td>\n      <td>162900</td>\n    </tr>\n    <tr>\n      <th>1457</th>\n      <td>1362</td>\n      <td>20</td>\n      <td>RL</td>\n      <td>124.0</td>\n      <td>16158</td>\n      <td>Pave</td>\n      <td>NaN</td>\n      <td>IR1</td>\n      <td>Low</td>\n      <td>AllPub</td>\n      <td>...</td>\n      <td>0</td>\n      <td>NaN</td>\n      <td>NaN</td>\n      <td>NaN</td>\n      <td>0</td>\n      <td>6</td>\n      <td>2009</td>\n      <td>WD</td>\n      <td>Normal</td>\n      <td>260000</td>\n    </tr>\n    <tr>\n      <th>1458</th>\n      <td>1116</td>\n      <td>20</td>\n      <td>RL</td>\n      <td>93.0</td>\n      <td>12085</td>\n      <td>Pave</td>\n      <td>NaN</td>\n      <td>Reg</td>\n      <td>Lvl</td>\n      <td>AllPub</td>\n      <td>...</td>\n      <td>0</td>\n      <td>NaN</td>\n      <td>NaN</td>\n      <td>NaN</td>\n      <td>0</td>\n      <td>11</td>\n      <td>2007</td>\n      <td>New</td>\n      <td>Partial</td>\n      <td>318000</td>\n    </tr>\n    <tr>\n      <th>1459</th>\n      <td>1105</td>\n      <td>160</td>\n      <td>RM</td>\n      <td>24.0</td>\n      <td>2016</td>\n      <td>Pave</td>\n      <td>NaN</td>\n      <td>Reg</td>\n      <td>Lvl</td>\n      <td>AllPub</td>\n      <td>...</td>\n      <td>0</td>\n      <td>NaN</td>\n      <td>NaN</td>\n      <td>NaN</td>\n      <td>0</td>\n      <td>4</td>\n      <td>2007</td>\n      <td>WD</td>\n      <td>Normal</td>\n      <td>106000</td>\n    </tr>\n  </tbody>\n</table>\n<p>1460 rows × 81 columns</p>\n</div>"
     },
     "execution_count": 1,
     "metadata": {},
     "output_type": "execute_result"
    }
   ],
   "source": [
    "import pandas as pd\n",
    "data = pd.read_csv('data.csv')\n",
    "data"
   ]
  },
  {
   "cell_type": "code",
   "execution_count": null,
   "outputs": [],
   "source": [],
   "metadata": {
    "collapsed": false
   },
   "id": "b2032678a45be968"
  }
 ],
 "metadata": {
  "kernelspec": {
   "display_name": "Python 3",
   "language": "python",
   "name": "python3"
  },
  "language_info": {
   "codemirror_mode": {
    "name": "ipython",
    "version": 2
   },
   "file_extension": ".py",
   "mimetype": "text/x-python",
   "name": "python",
   "nbconvert_exporter": "python",
   "pygments_lexer": "ipython2",
   "version": "2.7.6"
  }
 },
 "nbformat": 4,
 "nbformat_minor": 5
}
