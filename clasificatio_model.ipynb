{
 "cells": [
  {
   "cell_type": "code",
   "execution_count": 9,
   "id": "initial_id",
   "metadata": {
    "collapsed": true,
    "ExecuteTime": {
     "end_time": "2024-11-06T02:45:12.643906300Z",
     "start_time": "2024-11-06T02:45:12.569231500Z"
    }
   },
   "outputs": [
    {
     "data": {
      "text/plain": "      sub_ms_class  frontge_lot  area_lot  shape_lot  slopeland  style_house  \\\n0               45         55.0      4388          1          1            2   \n1               20         80.0      9600          0          1            1   \n2               30         50.0      5330          0          1            1   \n3               70         57.0      9906          0          1            4   \n4              120         64.0      5587          1          2            1   \n...            ...          ...       ...        ...        ...          ...   \n1439            75         75.0     13500          0          1            5   \n1440            60         78.0     10140          0          1            4   \n1441            20        124.0     16158          1          2            1   \n1442            20         93.0     12085          0          1            1   \n1443           160         24.0      2016          0          1            4   \n\n      ovl_quality  ovl_condition  year_constructed  year_remod  ...  \\\n0               5              7              1930        1950  ...   \n1               7              6              1973        1973  ...   \n2               4              7              1940        1950  ...   \n3               4              4              1925        1950  ...   \n4               8              5              2008        2008  ...   \n...           ...            ...               ...         ...  ...   \n1439           10              9              1893        2000  ...   \n1440            7              5              1976        1976  ...   \n1441            7              5              2005        2005  ...   \n1442            8              5              2007        2007  ...   \n1443            5              5              1970        1970  ...   \n\n      configlot_Inside  electrical_FuseF  electrical_FuseP  electrical_Mix  \\\n0                    1                 0                 0               0   \n1                    1                 0                 0               0   \n2                    1                 0                 0               0   \n3                    1                 0                 0               0   \n4                    1                 0                 0               0   \n...                ...               ...               ...             ...   \n1439                 1                 0                 0               0   \n1440                 1                 0                 0               0   \n1441                 1                 0                 0               0   \n1442                 1                 0                 0               0   \n1443                 1                 0                 0               0   \n\n      electrical_SBrkr  type_building_2fmCon  type_building_Duplex  \\\n0                    1                     0                     0   \n1                    1                     0                     0   \n2                    1                     0                     0   \n3                    1                     0                     0   \n4                    1                     0                     0   \n...                ...                   ...                   ...   \n1439                 1                     0                     0   \n1440                 1                     0                     0   \n1441                 1                     0                     0   \n1442                 1                     0                     0   \n1443                 1                     0                     0   \n\n      type_building_Twnhs  type_building_TwnhsE  saleprice  \n0                       0                     0      87000  \n1                       0                     0     175500  \n2                       0                     0      82500  \n3                       0                     0     107000  \n4                       0                     1     392500  \n...                   ...                   ...        ...  \n1439                    0                     0     325000  \n1440                    0                     0     162900  \n1441                    0                     0     260000  \n1442                    0                     0     318000  \n1443                    0                     1     106000  \n\n[1444 rows x 74 columns]",
      "text/html": "<div>\n<style scoped>\n    .dataframe tbody tr th:only-of-type {\n        vertical-align: middle;\n    }\n\n    .dataframe tbody tr th {\n        vertical-align: top;\n    }\n\n    .dataframe thead th {\n        text-align: right;\n    }\n</style>\n<table border=\"1\" class=\"dataframe\">\n  <thead>\n    <tr style=\"text-align: right;\">\n      <th></th>\n      <th>sub_ms_class</th>\n      <th>frontge_lot</th>\n      <th>area_lot</th>\n      <th>shape_lot</th>\n      <th>slopeland</th>\n      <th>style_house</th>\n      <th>ovl_quality</th>\n      <th>ovl_condition</th>\n      <th>year_constructed</th>\n      <th>year_remod</th>\n      <th>...</th>\n      <th>configlot_Inside</th>\n      <th>electrical_FuseF</th>\n      <th>electrical_FuseP</th>\n      <th>electrical_Mix</th>\n      <th>electrical_SBrkr</th>\n      <th>type_building_2fmCon</th>\n      <th>type_building_Duplex</th>\n      <th>type_building_Twnhs</th>\n      <th>type_building_TwnhsE</th>\n      <th>saleprice</th>\n    </tr>\n  </thead>\n  <tbody>\n    <tr>\n      <th>0</th>\n      <td>45</td>\n      <td>55.0</td>\n      <td>4388</td>\n      <td>1</td>\n      <td>1</td>\n      <td>2</td>\n      <td>5</td>\n      <td>7</td>\n      <td>1930</td>\n      <td>1950</td>\n      <td>...</td>\n      <td>1</td>\n      <td>0</td>\n      <td>0</td>\n      <td>0</td>\n      <td>1</td>\n      <td>0</td>\n      <td>0</td>\n      <td>0</td>\n      <td>0</td>\n      <td>87000</td>\n    </tr>\n    <tr>\n      <th>1</th>\n      <td>20</td>\n      <td>80.0</td>\n      <td>9600</td>\n      <td>0</td>\n      <td>1</td>\n      <td>1</td>\n      <td>7</td>\n      <td>6</td>\n      <td>1973</td>\n      <td>1973</td>\n      <td>...</td>\n      <td>1</td>\n      <td>0</td>\n      <td>0</td>\n      <td>0</td>\n      <td>1</td>\n      <td>0</td>\n      <td>0</td>\n      <td>0</td>\n      <td>0</td>\n      <td>175500</td>\n    </tr>\n    <tr>\n      <th>2</th>\n      <td>30</td>\n      <td>50.0</td>\n      <td>5330</td>\n      <td>0</td>\n      <td>1</td>\n      <td>1</td>\n      <td>4</td>\n      <td>7</td>\n      <td>1940</td>\n      <td>1950</td>\n      <td>...</td>\n      <td>1</td>\n      <td>0</td>\n      <td>0</td>\n      <td>0</td>\n      <td>1</td>\n      <td>0</td>\n      <td>0</td>\n      <td>0</td>\n      <td>0</td>\n      <td>82500</td>\n    </tr>\n    <tr>\n      <th>3</th>\n      <td>70</td>\n      <td>57.0</td>\n      <td>9906</td>\n      <td>0</td>\n      <td>1</td>\n      <td>4</td>\n      <td>4</td>\n      <td>4</td>\n      <td>1925</td>\n      <td>1950</td>\n      <td>...</td>\n      <td>1</td>\n      <td>0</td>\n      <td>0</td>\n      <td>0</td>\n      <td>1</td>\n      <td>0</td>\n      <td>0</td>\n      <td>0</td>\n      <td>0</td>\n      <td>107000</td>\n    </tr>\n    <tr>\n      <th>4</th>\n      <td>120</td>\n      <td>64.0</td>\n      <td>5587</td>\n      <td>1</td>\n      <td>2</td>\n      <td>1</td>\n      <td>8</td>\n      <td>5</td>\n      <td>2008</td>\n      <td>2008</td>\n      <td>...</td>\n      <td>1</td>\n      <td>0</td>\n      <td>0</td>\n      <td>0</td>\n      <td>1</td>\n      <td>0</td>\n      <td>0</td>\n      <td>0</td>\n      <td>1</td>\n      <td>392500</td>\n    </tr>\n    <tr>\n      <th>...</th>\n      <td>...</td>\n      <td>...</td>\n      <td>...</td>\n      <td>...</td>\n      <td>...</td>\n      <td>...</td>\n      <td>...</td>\n      <td>...</td>\n      <td>...</td>\n      <td>...</td>\n      <td>...</td>\n      <td>...</td>\n      <td>...</td>\n      <td>...</td>\n      <td>...</td>\n      <td>...</td>\n      <td>...</td>\n      <td>...</td>\n      <td>...</td>\n      <td>...</td>\n      <td>...</td>\n    </tr>\n    <tr>\n      <th>1439</th>\n      <td>75</td>\n      <td>75.0</td>\n      <td>13500</td>\n      <td>0</td>\n      <td>1</td>\n      <td>5</td>\n      <td>10</td>\n      <td>9</td>\n      <td>1893</td>\n      <td>2000</td>\n      <td>...</td>\n      <td>1</td>\n      <td>0</td>\n      <td>0</td>\n      <td>0</td>\n      <td>1</td>\n      <td>0</td>\n      <td>0</td>\n      <td>0</td>\n      <td>0</td>\n      <td>325000</td>\n    </tr>\n    <tr>\n      <th>1440</th>\n      <td>60</td>\n      <td>78.0</td>\n      <td>10140</td>\n      <td>0</td>\n      <td>1</td>\n      <td>4</td>\n      <td>7</td>\n      <td>5</td>\n      <td>1976</td>\n      <td>1976</td>\n      <td>...</td>\n      <td>1</td>\n      <td>0</td>\n      <td>0</td>\n      <td>0</td>\n      <td>1</td>\n      <td>0</td>\n      <td>0</td>\n      <td>0</td>\n      <td>0</td>\n      <td>162900</td>\n    </tr>\n    <tr>\n      <th>1441</th>\n      <td>20</td>\n      <td>124.0</td>\n      <td>16158</td>\n      <td>1</td>\n      <td>2</td>\n      <td>1</td>\n      <td>7</td>\n      <td>5</td>\n      <td>2005</td>\n      <td>2005</td>\n      <td>...</td>\n      <td>1</td>\n      <td>0</td>\n      <td>0</td>\n      <td>0</td>\n      <td>1</td>\n      <td>0</td>\n      <td>0</td>\n      <td>0</td>\n      <td>0</td>\n      <td>260000</td>\n    </tr>\n    <tr>\n      <th>1442</th>\n      <td>20</td>\n      <td>93.0</td>\n      <td>12085</td>\n      <td>0</td>\n      <td>1</td>\n      <td>1</td>\n      <td>8</td>\n      <td>5</td>\n      <td>2007</td>\n      <td>2007</td>\n      <td>...</td>\n      <td>1</td>\n      <td>0</td>\n      <td>0</td>\n      <td>0</td>\n      <td>1</td>\n      <td>0</td>\n      <td>0</td>\n      <td>0</td>\n      <td>0</td>\n      <td>318000</td>\n    </tr>\n    <tr>\n      <th>1443</th>\n      <td>160</td>\n      <td>24.0</td>\n      <td>2016</td>\n      <td>0</td>\n      <td>1</td>\n      <td>4</td>\n      <td>5</td>\n      <td>5</td>\n      <td>1970</td>\n      <td>1970</td>\n      <td>...</td>\n      <td>1</td>\n      <td>0</td>\n      <td>0</td>\n      <td>0</td>\n      <td>1</td>\n      <td>0</td>\n      <td>0</td>\n      <td>0</td>\n      <td>1</td>\n      <td>106000</td>\n    </tr>\n  </tbody>\n</table>\n<p>1444 rows × 74 columns</p>\n</div>"
     },
     "execution_count": 9,
     "metadata": {},
     "output_type": "execute_result"
    }
   ],
   "source": [
    "import pandas as pd\n",
    "data = pd.read_csv('num_data.csv')\n",
    "data"
   ]
  },
  {
   "cell_type": "code",
   "execution_count": 10,
   "outputs": [],
   "source": [
    "X = data.drop('sub_ms_class', axis=1)\n",
    "y = data['sub_ms_class']"
   ],
   "metadata": {
    "collapsed": false,
    "ExecuteTime": {
     "end_time": "2024-11-06T02:45:14.161170400Z",
     "start_time": "2024-11-06T02:45:14.076613100Z"
    }
   },
   "id": "e2de2733abb5a5dd"
  },
  {
   "cell_type": "code",
   "execution_count": 11,
   "outputs": [
    {
     "name": "stdout",
     "output_type": "stream",
     "text": [
      "Accuracy: 0.962\n",
      "\n",
      "Classification Report:\n",
      "              precision    recall  f1-score   support\n",
      "\n",
      "          20       0.97      0.99      0.98       103\n",
      "          30       1.00      1.00      1.00        11\n",
      "          40       0.00      0.00      0.00         1\n",
      "          45       1.00      1.00      1.00         1\n",
      "          50       0.91      0.94      0.92        32\n",
      "          60       0.97      0.99      0.98        71\n",
      "          70       0.94      0.94      0.94        16\n",
      "          80       0.91      0.91      0.91        11\n",
      "          85       1.00      0.75      0.86         4\n",
      "          90       1.00      1.00      1.00        12\n",
      "         120       0.92      0.92      0.92        12\n",
      "         160       1.00      1.00      1.00         9\n",
      "         180       1.00      1.00      1.00         1\n",
      "         190       1.00      0.60      0.75         5\n",
      "\n",
      "    accuracy                           0.96       289\n",
      "   macro avg       0.90      0.86      0.88       289\n",
      "weighted avg       0.96      0.96      0.96       289\n"
     ]
    },
    {
     "name": "stderr",
     "output_type": "stream",
     "text": [
      "C:\\Users\\hp\\anaconda3\\Lib\\site-packages\\sklearn\\metrics\\_classification.py:1509: UndefinedMetricWarning: Precision is ill-defined and being set to 0.0 in labels with no predicted samples. Use `zero_division` parameter to control this behavior.\n",
      "  _warn_prf(average, modifier, f\"{metric.capitalize()} is\", len(result))\n",
      "C:\\Users\\hp\\anaconda3\\Lib\\site-packages\\sklearn\\metrics\\_classification.py:1509: UndefinedMetricWarning: Precision is ill-defined and being set to 0.0 in labels with no predicted samples. Use `zero_division` parameter to control this behavior.\n",
      "  _warn_prf(average, modifier, f\"{metric.capitalize()} is\", len(result))\n",
      "C:\\Users\\hp\\anaconda3\\Lib\\site-packages\\sklearn\\metrics\\_classification.py:1509: UndefinedMetricWarning: Precision is ill-defined and being set to 0.0 in labels with no predicted samples. Use `zero_division` parameter to control this behavior.\n",
      "  _warn_prf(average, modifier, f\"{metric.capitalize()} is\", len(result))\n"
     ]
    }
   ],
   "source": [
    "from sklearn.ensemble import RandomForestClassifier\n",
    "from sklearn.model_selection import train_test_split\n",
    "from sklearn.metrics import classification_report, accuracy_score\n",
    "from sklearn.preprocessing import StandardScaler\n",
    "from sklearn.pipeline import make_pipeline\n",
    "\n",
    "\n",
    "X_train, X_test, y_train, y_test = train_test_split(X, y, test_size=0.2, random_state=42)\n",
    "\n",
    "rf_model = make_pipeline(\n",
    "    StandardScaler(),\n",
    "    RandomForestClassifier(\n",
    "        bootstrap=False, \n",
    "        min_samples_leaf=1, \n",
    "        min_samples_split=2, \n",
    "        n_estimators=100, \n",
    "        random_state=42\n",
    "    )\n",
    ")\n",
    "\n",
    "rf_model.fit(X_train, y_train)\n",
    "\n",
    "y_pred = rf_model.predict(X_test)\n",
    "\n",
    "# Evaluate the model\n",
    "accuracy = accuracy_score(y_test, y_pred)\n",
    "print(f\"Accuracy: {accuracy:.3f}\")\n",
    "\n",
    "# Detailed classification report\n",
    "print(\"\\nClassification Report:\")\n",
    "print(classification_report(y_test, y_pred))\n"
   ],
   "metadata": {
    "collapsed": false,
    "ExecuteTime": {
     "end_time": "2024-11-06T02:45:16.440892400Z",
     "start_time": "2024-11-06T02:45:15.443832100Z"
    }
   },
   "id": "1f9fb1b04301a82a"
  },
  {
   "cell_type": "code",
   "execution_count": 12,
   "outputs": [
    {
     "data": {
      "text/plain": "sub_ms_class\n20     530\n60     293\n50     144\n120     86\n30      69\n160     62\n70      60\n80      57\n90      51\n190     30\n85      20\n75      16\n45      12\n180     10\n40       4\nName: count, dtype: int64"
     },
     "execution_count": 12,
     "metadata": {},
     "output_type": "execute_result"
    }
   ],
   "source": [
    "y.value_counts()"
   ],
   "metadata": {
    "collapsed": false,
    "ExecuteTime": {
     "end_time": "2024-11-06T02:45:17.874156300Z",
     "start_time": "2024-11-06T02:45:17.844496200Z"
    }
   },
   "id": "371f353c096d435d"
  },
  {
   "cell_type": "code",
   "execution_count": null,
   "outputs": [],
   "source": [],
   "metadata": {
    "collapsed": false
   },
   "id": "a30f8a58a357bb1"
  }
 ],
 "metadata": {
  "kernelspec": {
   "display_name": "Python 3",
   "language": "python",
   "name": "python3"
  },
  "language_info": {
   "codemirror_mode": {
    "name": "ipython",
    "version": 2
   },
   "file_extension": ".py",
   "mimetype": "text/x-python",
   "name": "python",
   "nbconvert_exporter": "python",
   "pygments_lexer": "ipython2",
   "version": "2.7.6"
  }
 },
 "nbformat": 4,
 "nbformat_minor": 5
}
